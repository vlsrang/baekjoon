{
 "cells": [
  {
   "cell_type": "code",
   "execution_count": 17,
   "metadata": {},
   "outputs": [
    {
     "name": "stdout",
     "output_type": "stream",
     "text": [
      "Topic 분류 결과:\n",
      "              precision    recall  f1-score   support\n",
      "\n",
      "           0       0.91      0.73      0.81       144\n",
      "           1       0.85      0.72      0.78       175\n",
      "           2       0.85      0.78      0.81       177\n",
      "           3       0.71      0.81      0.76       177\n",
      "           4       0.91      0.82      0.86       173\n",
      "           5       0.92      0.81      0.86       178\n",
      "           6       0.90      0.68      0.77       176\n",
      "           7       0.86      0.90      0.88       178\n",
      "           8       0.92      0.93      0.93       180\n",
      "           9       0.94      0.96      0.95       179\n",
      "          10       0.95      0.96      0.95       180\n",
      "          11       0.70      0.98      0.82       179\n",
      "          12       0.89      0.73      0.80       177\n",
      "          13       0.96      0.89      0.92       178\n",
      "          14       0.89      0.96      0.92       178\n",
      "          15       0.49      0.98      0.65       180\n",
      "          16       0.78      0.98      0.87       164\n",
      "          17       0.90      0.99      0.94       169\n",
      "          18       1.00      0.55      0.71       140\n",
      "          19       1.00      0.15      0.26       113\n",
      "\n",
      "    accuracy                           0.83      3395\n",
      "   macro avg       0.87      0.81      0.81      3395\n",
      "weighted avg       0.86      0.83      0.82      3395\n",
      "\n"
     ]
    }
   ],
   "source": [
    "##### library import #####\n",
    "from sklearn.datasets import fetch_20newsgroups\n",
    "from sklearn.naive_bayes import MultinomialNB\n",
    "from sklearn.model_selection import train_test_split\n",
    "from sklearn.metrics import classification_report\n",
    "\n",
    "# 밑에는 선택 알고리즘\n",
    "from sklearn.feature_extraction.text import CountVectorizer\n",
    "from sklearn.feature_extraction.text import TfidfTransformer\n",
    "import numpy as np\n",
    "import pandas as pd\n",
    "\n",
    "# 분류용 샘플 데이터 불러오기\n",
    "news = fetch_20newsgroups()\n",
    "X,y,labels = news.data, news.target, news.target_names\n",
    "\n",
    "newsdata=fetch_20newsgroups(subset='train')\n",
    "newsdata_test = fetch_20newsgroups(subset='test', shuffle=True)\n",
    "\n",
    "# 학습/테스트 데이터셋 분할 \n",
    "X_train, X_test,y_train,y_test=train_test_split(news.data, news.target,test_size=0.3,random_state=1,stratify=y)\n",
    "\n",
    "# 데이터 전처리(벡터화)\n",
    "vectorizer=CountVectorizer()\n",
    "tfid=TfidfTransformer()\n",
    "X_train_vec=vectorizer.fit_transform(X_train)\n",
    "X_test_vec=vectorizer.transform(X_test)\n",
    "X_train_tfid=tfid.fit_transform(X_train_vec)\n",
    "X_test_tfid=tfid.transform(X_test_vec)\n",
    "\n",
    "\n",
    "# 다중분류 나이브 베이즈\n",
    "mod = MultinomialNB()\n",
    "mod.fit(X_train_tfid, y_train)\n",
    "MultinomialNB(alpha=1.0, class_prior=None, fit_prior=True)\n",
    "predicted = mod.predict(X_test_tfid)\n",
    "\n",
    "\n",
    "#### do not edit here ####\n",
    "report = classification_report(y_true = y_test, y_pred = predicted)\n",
    "print('Topic 분류 결과:')\n",
    "print(report)"
   ]
  },
  {
   "cell_type": "code",
   "execution_count": null,
   "metadata": {},
   "outputs": [],
   "source": []
  }
 ],
 "metadata": {
  "kernelspec": {
   "display_name": "Python 3",
   "language": "python",
   "name": "python3"
  },
  "language_info": {
   "codemirror_mode": {
    "name": "ipython",
    "version": 3
   },
   "file_extension": ".py",
   "mimetype": "text/x-python",
   "name": "python",
   "nbconvert_exporter": "python",
   "pygments_lexer": "ipython3",
   "version": "3.8.5"
  }
 },
 "nbformat": 4,
 "nbformat_minor": 4
}
